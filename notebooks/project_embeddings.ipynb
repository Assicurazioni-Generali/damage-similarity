{
 "cells": [
  {
   "cell_type": "code",
   "execution_count": null,
   "id": "opening-personality",
   "metadata": {},
   "outputs": [],
   "source": [
    "import os \n",
    "import sys\n",
    "import time\n",
    "import torchreid\n",
    "import numpy as np\n",
    "import torch\n",
    "from torchreid.utils import FeatureExtractor\n",
    "import cv2\n",
    "import matplotlib.pyplot as plt\n",
    "import glob\n",
    "from PIL import Image\n",
    "import base64\n",
    "import io\n",
    "from distinctipy import distinctipy\n",
    "import PIL\n",
    "import umap\n",
    "from bokeh.plotting import ColumnDataSource, figure, show, output_notebook\n",
    "from tqdm.auto import tqdm\n",
    "partial_path = os.getcwd().rsplit(\"/\", 1)[0]\n",
    "sys.path.insert(0, f\"{partial_path}/src/\")\n",
    "sys.path.insert(0, f\"{partial_path}/src/deep-person-reid/\")\n",
    "\n",
    "import torchreid\n",
    "\n",
    "import config as cf\n",
    "from datasets import train_data, test_data\n",
    "from visualize_activation_maps import vis_act_map, load_model_and_data\n",
    "\n",
    "import torchvision.transforms as T\n",
    "from torch.nn import functional as F\n",
    "from projector import *"
   ]
  },
  {
   "cell_type": "code",
   "execution_count": null,
   "id": "hungarian-baseline",
   "metadata": {
    "scrolled": true
   },
   "outputs": [],
   "source": [
    "for path in cf.TRAIN_DATASETS:\n",
    "    print(path)\n",
    "    class train_dataset(train_data):\n",
    "        def __init__(self, root=cf.DATA_ROOT, dataset_dir=path, print_summary=True, **kwargs):\n",
    "            super().__init__(root, dataset_dir, print_summary, **kwargs)\n",
    "    train_dataset(root=cf.DATA_ROOT, dataset_dir=path)\n",
    "    torchreid.data.register_image_dataset(path, train_dataset)"
   ]
  },
  {
   "cell_type": "code",
   "execution_count": null,
   "id": "interracial-relations",
   "metadata": {},
   "outputs": [],
   "source": [
    "# os.environ[\"CUDA_DEVICE_ORDER\"]=\"PCI_BUS_ID\"   # see issue #152\n",
    "# os.environ[\"CUDA_VISIBLE_DEVICES\"]=\"0\""
   ]
  },
  {
   "cell_type": "code",
   "execution_count": null,
   "id": "approximate-lighter",
   "metadata": {},
   "outputs": [],
   "source": [
    "base_path = '../data/test_papers_2.1.0/'"
   ]
  },
  {
   "cell_type": "code",
   "execution_count": null,
   "id": "computational-destruction",
   "metadata": {},
   "outputs": [],
   "source": [
    "print(len(os.listdir(base_path)))"
   ]
  },
  {
   "cell_type": "code",
   "execution_count": null,
   "id": "sharing-replacement",
   "metadata": {
    "scrolled": true
   },
   "outputs": [],
   "source": [
    "all_files = glob.glob(os.path.join(base_path, '*'))"
   ]
  },
  {
   "cell_type": "markdown",
   "id": "aggressive-matrix",
   "metadata": {},
   "source": [
    "# Model"
   ]
  },
  {
   "cell_type": "code",
   "execution_count": null,
   "id": "dimensional-andrew",
   "metadata": {},
   "outputs": [],
   "source": [
    "model_path=cf.SIMILARITY_BEST_WEIGHTS_PATH"
   ]
  },
  {
   "cell_type": "code",
   "execution_count": null,
   "id": "oriental-ranking",
   "metadata": {},
   "outputs": [],
   "source": [
    "extractor = FeatureExtractor(\n",
    "    model_name='osnet_ain_x1_0',\n",
    "    model_path=model_path,\n",
    "    device='cuda'\n",
    ")"
   ]
  },
  {
   "cell_type": "code",
   "execution_count": null,
   "id": "neutral-repository",
   "metadata": {},
   "outputs": [],
   "source": [
    "classes=[os.path.basename(i).split('_')[0] for i in all_files]\n",
    "embeddings=extractor(all_files).cpu()"
   ]
  },
  {
   "cell_type": "code",
   "execution_count": null,
   "id": "similar-therapist",
   "metadata": {
    "scrolled": true
   },
   "outputs": [],
   "source": [
    "#projector(embeddings,labels=classes, images=all_files, pt_size=6)"
   ]
  },
  {
   "cell_type": "code",
   "execution_count": null,
   "id": "emotional-smith",
   "metadata": {},
   "outputs": [],
   "source": [
    "\n",
    "projector(embeddings,labels=classes, images=all_files,\n",
    "          pt_size=6, activations=True, use_gpu=True)"
   ]
  }
 ],
 "metadata": {
  "kernelspec": {
   "display_name": ".conda-torchreid",
   "language": "python",
   "name": "conda-env-.conda-torchreid-py"
  },
  "language_info": {
   "codemirror_mode": {
    "name": "ipython",
    "version": 3
   },
   "file_extension": ".py",
   "mimetype": "text/x-python",
   "name": "python",
   "nbconvert_exporter": "python",
   "pygments_lexer": "ipython3",
   "version": "3.7.10"
  }
 },
 "nbformat": 4,
 "nbformat_minor": 5
}
