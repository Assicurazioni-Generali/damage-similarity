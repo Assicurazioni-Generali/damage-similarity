{
 "cells": [
  {
   "cell_type": "code",
   "execution_count": null,
   "id": "certified-montreal",
   "metadata": {},
   "outputs": [],
   "source": [
    "import sys\n",
    "import os\n",
    "\n",
    "partial_path = os.getcwd().rsplit(\"/\", 1)[0]\n",
    "sys.path.insert(0, f\"{partial_path}/src/\")\n",
    "\n",
    "import torchreid\n",
    "\n",
    "import config as cf\n",
    "from datasets import train_data, test_data\n",
    "from test import test"
   ]
  },
  {
   "cell_type": "code",
   "execution_count": null,
   "id": "graphic-monitoring",
   "metadata": {},
   "outputs": [],
   "source": [
    "for path in cf.TEST_DATASETS:\n",
    "    print(path)\n",
    "    class test_dataset(test_data):\n",
    "        def __init__(self, root=cf.DATA_ROOT, dataset_dir=path, print_summary=True, **kwargs):\n",
    "            super().__init__(root, dataset_dir, print_summary, **kwargs)\n",
    "    test_dataset(root=cf.DATA_ROOT, dataset_dir=path)\n",
    "    torchreid.data.register_image_dataset(path, test_data)"
   ]
  },
  {
   "cell_type": "code",
   "execution_count": null,
   "id": "mobile-genealogy",
   "metadata": {},
   "outputs": [],
   "source": [
    "test(cf.parameters_test)"
   ]
  }
 ],
 "metadata": {
  "interpreter": {
   "hash": "8b8f3989125208fea901a3daa574ecf0772df957395fd275df331599c4a0898c"
  },
  "kernelspec": {
   "display_name": ".conda-torchreid",
   "language": "python",
   "name": "conda-env-.conda-torchreid-py"
  },
  "language_info": {
   "codemirror_mode": {
    "name": "ipython",
    "version": 3
   },
   "file_extension": ".py",
   "mimetype": "text/x-python",
   "name": "python",
   "nbconvert_exporter": "python",
   "pygments_lexer": "ipython3",
   "version": "3.7.10"
  }
 },
 "nbformat": 4,
 "nbformat_minor": 5
}
