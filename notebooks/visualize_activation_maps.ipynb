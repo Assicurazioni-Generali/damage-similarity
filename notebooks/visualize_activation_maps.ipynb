{
 "cells": [
  {
   "cell_type": "markdown",
   "id": "excellent-orlando",
   "metadata": {},
   "source": [
    "## IMPORT LIBRARIES AND PACKAGES"
   ]
  },
  {
   "cell_type": "code",
   "execution_count": null,
   "id": "canadian-aberdeen",
   "metadata": {},
   "outputs": [],
   "source": [
    "import sys\n",
    "import os\n",
    "\n",
    "partial_path = os.getcwd().rsplit(\"/\", 1)[0]\n",
    "sys.path.insert(0, f\"{partial_path}/src/\")\n",
    "sys.path.insert(0, f\"{partial_path}/src/deep-person-reid/\")\n",
    "\n",
    "import torchreid\n",
    "\n",
    "import config as cf\n",
    "from datasets import train_data, test_data\n",
    "from visualize_activation_maps import vis_act_map, load_model_and_data"
   ]
  },
  {
   "cell_type": "markdown",
   "id": "capable-teacher",
   "metadata": {},
   "source": [
    "## PREPARE DATASETS"
   ]
  },
  {
   "cell_type": "code",
   "execution_count": null,
   "id": "voluntary-jurisdiction",
   "metadata": {},
   "outputs": [],
   "source": [
    "real_data(root=cf.INPUT_DATA_DIR, print_summary=False)\n",
    "torchreid.data.register_image_dataset(cf.SUBSAMPLE_DATASET_NAME, real_data)"
   ]
  },
  {
   "cell_type": "code",
   "execution_count": null,
   "id": "unlike-detector",
   "metadata": {},
   "outputs": [],
   "source": [
    "synth_data(root=cf.INPUT_DATA_DIR, print_summary=False)\n",
    "torchreid.data.register_image_dataset(cf.SUBSAMPLE_SYTHETIC_DATASET_NAME, synth_data)"
   ]
  },
  {
   "cell_type": "code",
   "execution_count": null,
   "id": "biological-opera",
   "metadata": {},
   "outputs": [],
   "source": [
    "test_data(root=cf.INPUT_DATA_DIR, print_summary=False)\n",
    "torchreid.data.register_image_dataset(cf.SUBSAMPLE_FULL_DATASET_NAME, test_data)"
   ]
  },
  {
   "cell_type": "markdown",
   "id": "available-scene",
   "metadata": {},
   "source": [
    "## COMPUTE ACTIVATION MAPS"
   ]
  },
  {
   "cell_type": "code",
   "execution_count": null,
   "id": "occupied-litigation",
   "metadata": {},
   "outputs": [],
   "source": [
    "model, test_loader = load_model_and_data(cf.parameters)"
   ]
  },
  {
   "cell_type": "code",
   "execution_count": null,
   "id": "separated-associate",
   "metadata": {},
   "outputs": [],
   "source": [
    "vis_act_map(model, test_loader, cf.SAVE_ACTIVATION_MAPS_DIR, cf.parameters[\"size\"], cf.parameters[\"size\"], cf.parameters[\"use_gpu\"])"
   ]
  }
 ],
 "metadata": {
  "interpreter": {
   "hash": "8b8f3989125208fea901a3daa574ecf0772df957395fd275df331599c4a0898c"
  },
  "kernelspec": {
   "display_name": "Python 3.7.9 64-bit ('pytorch_fede': conda)",
   "name": "python3"
  },
  "language_info": {
   "codemirror_mode": {
    "name": "ipython",
    "version": 3
   },
   "file_extension": ".py",
   "mimetype": "text/x-python",
   "name": "python",
   "nbconvert_exporter": "python",
   "pygments_lexer": "ipython3",
   "version": "3.7.9"
  }
 },
 "nbformat": 4,
 "nbformat_minor": 5
}
