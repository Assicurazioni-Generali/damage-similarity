{
 "cells": [
  {
   "cell_type": "markdown",
   "source": [
    "## IMPORT USEFUL LIBRARIES AND PACKAGES"
   ],
   "metadata": {}
  },
  {
   "cell_type": "code",
   "execution_count": 2,
   "source": [
    "import glob\n",
    "import os\n",
    "import sys\n",
    "import pandas as pd\n",
    "import numpy as np\n",
    "import json\n",
    "\n",
    "partial_path = os.getcwd().rsplit('/', 1)[0]\n",
    "sys.path.insert(0, f'{partial_path}/src/')\n",
    "\n",
    "from utils import crop_damage_v1\n",
    "import config as cf"
   ],
   "outputs": [],
   "metadata": {}
  },
  {
   "cell_type": "markdown",
   "source": [
    "## LOAD JSON FILE CONTAINING ANNOTATIONS"
   ],
   "metadata": {}
  },
  {
   "cell_type": "code",
   "execution_count": 3,
   "source": [
    "with open(cf.DAMAGE_DATASET_ANNOTPATH) as f:\n",
    "    damage_bdeo = json.load(f)"
   ],
   "outputs": [],
   "metadata": {}
  },
  {
   "cell_type": "markdown",
   "source": [
    "## POST-PROCESS ANNOTATION FILE "
   ],
   "metadata": {}
  },
  {
   "cell_type": "code",
   "execution_count": 4,
   "source": [
    "df_annotations = pd.DataFrame.from_dict(damage_bdeo['annotations'])\n",
    "df_annotations.reset_index(inplace=True, drop=True)\n",
    "im_dict = {}\n",
    "\n",
    "for im in damage_bdeo['images']:\n",
    "    im_dict[im['id']] = im['file_name']\n",
    "\n",
    "df_annotations['path'] = df_annotations['image_id'].apply(lambda x: im_dict[x])\n",
    "df_annot = df_annotations.filter(['id', 'bbox', 'path'])\n",
    "df_annot['bbox_list'] = df_annot['bbox'].apply(lambda x: [x])\n",
    "df_annot_grouped_by_image = df_annot.groupby(['path'], as_index=False).agg({'bbox_list':np.sum})\n",
    "dict_annot_grouped_by_image = dict(zip(df_annot_grouped_by_image['path'], df_annot_grouped_by_image['bbox_list']))"
   ],
   "outputs": [],
   "metadata": {}
  },
  {
   "cell_type": "markdown",
   "source": [
    "## APPLY BBOX FROM ANNOTATIONS TO CROP DAMAGES OUT OF IMAGES"
   ],
   "metadata": {}
  },
  {
   "cell_type": "code",
   "execution_count": 18,
   "source": [
    "for index, image in enumerate(glob.glob(cf.DAMAGE_DATASET_IMAGEPATH)):\n",
    "    crop_damage_v1(image, df_annot['bbox_list'][index], title=os.path.basename(image), save=True, outpath=cf.DAMAGE_CROP_IMAGEPATH)"
   ],
   "outputs": [],
   "metadata": {}
  }
 ],
 "metadata": {
  "kernelspec": {
   "name": "python3",
   "display_name": "Python 3.7.9 64-bit ('pytorch_fede': conda)"
  },
  "language_info": {
   "codemirror_mode": {
    "name": "ipython",
    "version": 3
   },
   "file_extension": ".py",
   "mimetype": "text/x-python",
   "name": "python",
   "nbconvert_exporter": "python",
   "pygments_lexer": "ipython3",
   "version": "3.7.9"
  },
  "interpreter": {
   "hash": "8b8f3989125208fea901a3daa574ecf0772df957395fd275df331599c4a0898c"
  }
 },
 "nbformat": 4,
 "nbformat_minor": 5
}