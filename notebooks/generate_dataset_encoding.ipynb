{
 "cells": [
  {
   "cell_type": "markdown",
   "id": "appreciated-blank",
   "metadata": {},
   "source": [
    "## IMPORT USEFUL LIBRARIES AND PACKAGES"
   ]
  },
  {
   "cell_type": "code",
   "execution_count": 2,
   "id": "democratic-album",
   "metadata": {},
   "outputs": [],
   "source": [
    "import os\n",
    "import sys\n",
    "from shutil import copyfile\n",
    "from tqdm.notebook import tqdm\n",
    "import glob\n",
    "\n",
    "partial_path = os.getcwd().rsplit(\"/\", 1)[0]\n",
    "sys.path.insert(0, f\"{partial_path}/src/\")\n",
    "\n",
    "import config as cf"
   ]
  },
  {
   "cell_type": "markdown",
   "id": "stable-colleague",
   "metadata": {},
   "source": [
    "## HANDLE SYNTHETIC DATA"
   ]
  },
  {
   "cell_type": "code",
   "execution_count": null,
   "id": "hazardous-withdrawal",
   "metadata": {},
   "outputs": [],
   "source": [
    "id_damage = 0\n",
    "id_img = 0\n",
    "\n",
    "for claim in tqdm(glob.glob(os.path.join(cf.SYNTHETIC_DATASET_PATH, '*'))):\n",
    "    id_img = 0\n",
    "    images = glob.glob(os.path.join(claim, 'sticker_1_crop', '*'))\n",
    "    for image in images:\n",
    "        src = image\n",
    "        dest = os.path.join(cf.SYNTHETIC_DATASET_ENCODED_PATH, f'{id_damage}_{id_img}.jpg')\n",
    "        copyfile(src, dest)\n",
    "        id_img+=1\n",
    "\n",
    "    id_damage+=1\n",
    "\n",
    "    \n",
    "    id_img = 0\n",
    "    images = glob.glob(os.path.join(claim, 'sticker_2_crop', '*'))\n",
    "    for image in images:\n",
    "        src = image\n",
    "        dest = os.path.join(cf.SYNTHETIC_DATASET_ENCODED_PATH, f'{id_damage}_{id_img}.jpg')\n",
    "        copyfile(src, dest)\n",
    "        id_img+=1\n",
    "\n",
    "    id_damage+=1"
   ]
  },
  {
   "cell_type": "markdown",
   "id": "invalid-stanford",
   "metadata": {},
   "source": [
    "## HANDLE REAL DATA"
   ]
  },
  {
   "cell_type": "code",
   "execution_count": 4,
   "id": "fluid-corruption",
   "metadata": {},
   "outputs": [
    {
     "data": {
      "application/vnd.jupyter.widget-view+json": {
       "model_id": "21c05e0573e344e3be0e7a55cae61f15",
       "version_major": 2,
       "version_minor": 0
      },
      "text/plain": [
       "  0%|          | 0/389 [00:00<?, ?it/s]"
      ]
     },
     "metadata": {},
     "output_type": "display_data"
    }
   ],
   "source": [
    "id_damage = 0\n",
    "id_img = 0\n",
    "\n",
    "os.makedirs(cf.DATASET_ENCODED_PATH, exist_ok=True)\n",
    "for claim in tqdm(glob.glob(os.path.join(cf.DATASET_PATH, '*'))):\n",
    "    id_img = 0\n",
    "    images = glob.glob(os.path.join(claim, '*'))\n",
    "    #print(images)\n",
    "    for image in images:\n",
    "        src = image\n",
    "        dest = os.path.join(cf.DATASET_ENCODED_PATH, f'{id_damage}_{id_img}.jpg')\n",
    "        copyfile(src, dest)\n",
    "        id_img+=1\n",
    "\n",
    "    id_damage+=1"
   ]
  },
  {
   "cell_type": "code",
   "execution_count": 3,
   "id": "social-trace",
   "metadata": {},
   "outputs": [
    {
     "data": {
      "text/plain": [
       "'../data/subsample_dataset_encoded'"
      ]
     },
     "execution_count": 3,
     "metadata": {},
     "output_type": "execute_result"
    }
   ],
   "source": [
    "cf.DATASET_ENCODED_PATH"
   ]
  },
  {
   "cell_type": "markdown",
   "id": "mexican-biography",
   "metadata": {},
   "source": [
    "# CLEANER"
   ]
  },
  {
   "cell_type": "code",
   "execution_count": 9,
   "id": "practical-painting",
   "metadata": {},
   "outputs": [],
   "source": [
    "for to_clean in [cf.DATASET_ENCODED_PATH, cf.SYNTHETIC_DATASET_ENCODED_PATH]:\n",
    "    cleaned=to_clean.replace('encoded', 'encoded_clean')\n",
    "    os.makedirs(cleaned, exist_ok=True)\n",
    "    pics= glob.glob(os.path.join(to_clean, '*'))\n",
    "    dam_id=set([int(os.path.basename(i).replace('.jpg', '').split('_')[0]) for i in pics])\n",
    "    mapping=dict(zip(sorted(dam_id), range(0, len(dam_id))))\n",
    "    min_pic_number=min(set([int(os.path.basename(i).replace('.jpg', '').split('_')[1]) for i in pics]))\n",
    "    for pic in pics:\n",
    "        new_damage_id=mapping[int(os.path.basename(pic).replace('.jpg', '').split('_')[0])]\n",
    "        new_pic_number= int(os.path.basename(pic).replace('.jpg', '').split('_')[1])-min_pic_number\n",
    "        copyfile(pic,  os.path.join(cleaned, f'{new_damage_id}_{new_pic_number}.jpg'))"
   ]
  },
  {
   "cell_type": "markdown",
   "id": "centered-luxury",
   "metadata": {},
   "source": [
    "# REMOVE SINGLETONS "
   ]
  },
  {
   "cell_type": "code",
   "execution_count": 10,
   "id": "sophisticated-grammar",
   "metadata": {},
   "outputs": [],
   "source": [
    "inpath='/4TB_Disk/Image_Analytics/datasets/damage_similarity_II/reid_datasets/final_datasets/guida_cropped_2.0.1/'\n",
    "outpath='/4TB_Disk/Image_Analytics/datasets/damage_similarity_II/reid_datasets/final_datasets/guida_cropped_2.0.2/'\n",
    "os.makedirs(outpath, exist_ok=True)"
   ]
  },
  {
   "cell_type": "code",
   "execution_count": 14,
   "id": "vertical-stephen",
   "metadata": {},
   "outputs": [
    {
     "data": {
      "application/vnd.jupyter.widget-view+json": {
       "model_id": "6c3dbffca7b743f8b12003dae6f2e1f3",
       "version_major": 2,
       "version_minor": 0
      },
      "text/plain": [
       "  0%|          | 0/8000 [00:00<?, ?it/s]"
      ]
     },
     "metadata": {},
     "output_type": "display_data"
    }
   ],
   "source": [
    "dam_id=0\n",
    "for i in tqdm(range(0, 8000)):\n",
    "    pics=glob.glob(os.path.join(inpath, f'{i}_*.jpg'))\n",
    "    if len(pics)>1:\n",
    "        n_pic=0\n",
    "        for pic in pics:\n",
    "            copyfile(pic, os.path.join(outpath, f'{dam_id}_{n_pic}.jpg'))\n",
    "            n_pic+=1\n",
    "        dam_id+=1"
   ]
  },
  {
   "cell_type": "code",
   "execution_count": null,
   "id": "respective-belarus",
   "metadata": {},
   "outputs": [],
   "source": []
  }
 ],
 "metadata": {
  "interpreter": {
   "hash": "8b8f3989125208fea901a3daa574ecf0772df957395fd275df331599c4a0898c"
  },
  "kernelspec": {
   "display_name": ".conda-torchreid",
   "language": "python",
   "name": "conda-env-.conda-torchreid-py"
  },
  "language_info": {
   "codemirror_mode": {
    "name": "ipython",
    "version": 3
   },
   "file_extension": ".py",
   "mimetype": "text/x-python",
   "name": "python",
   "nbconvert_exporter": "python",
   "pygments_lexer": "ipython3",
   "version": "3.7.10"
  }
 },
 "nbformat": 4,
 "nbformat_minor": 5
}
