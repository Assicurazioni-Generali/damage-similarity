{
 "cells": [
  {
   "cell_type": "markdown",
   "id": "russian-vatican",
   "metadata": {},
   "source": [
    "# SOFT CMC "
   ]
  },
  {
   "cell_type": "markdown",
   "id": "civic-medicare",
   "metadata": {},
   "source": [
    " For each query, an algorithm will rank all the gallery samples according to their distances to the query from small to large, and the CMC top-k accuracy is\n",
    "\n",
    "$$\n",
    "C m c_{s o f t}{k}= \\begin{cases}1 & \\text { if top- } k \\text { ranked gallery samples contain at least one query identity } \\\\ 0 & \\text { otherwise }\\end{cases}\n",
    "$$\n",
    "\n",
    "which is a shifted step function. The final CMC curve is computed by averaging the shifted step functions over all the queries.\n",
    "\n",
    "https://cysu.github.io/open-reid/notes/evaluation_metrics.html"
   ]
  },
  {
   "cell_type": "markdown",
   "id": "native-grocery",
   "metadata": {},
   "source": [
    "# mAP"
   ]
  },
  {
   "cell_type": "markdown",
   "id": "behind-assault",
   "metadata": {},
   "source": [
    "$$\n",
    "\\operatorname{MAP}=\\frac{\\sum_{q=1}^{Q} \\operatorname{AveP}(\\mathrm{q})}{Q}\n",
    "$$\n",
    "\n",
    "where Q is the number of queries in the set and AveP(q) is the average precision (AP) for a given query, q.\n",
    "\n",
    "https://edhe1996.github.io/2018/08/20/mAP-in-Person-Re-ID/"
   ]
  },
  {
   "cell_type": "markdown",
   "id": "abstract-entertainment",
   "metadata": {},
   "source": [
    "# RECALL FEASIBLE"
   ]
  },
  {
   "cell_type": "markdown",
   "id": "eleven-dancing",
   "metadata": {},
   "source": [
    "$$\n",
    "RecFeas_{k} = \\frac{\\text { TP contained in top-} k \\text { results for each query }}{\\text{Max retrivable TP}}\n",
    "$$\n",
    "\n",
    "Where \n",
    "$$ \\text{Max retrivable TP}= Q - \\sum_{q=1}^{Q} max({TP_{q} -k, 0})$$"
   ]
  },
  {
   "cell_type": "markdown",
   "id": "widespread-mailing",
   "metadata": {},
   "source": [
    "# F1 FEASIBLE"
   ]
  },
  {
   "cell_type": "markdown",
   "id": "introductory-office",
   "metadata": {},
   "source": [
    "$$\n",
    "F_{1}Feas_{k} = 2 \\cdot \\frac{\\mathrm{Prec_{k}} \\cdot \\mathrm{RecFeas_{k}}}{\\mathrm{Prec_{k}}+\\mathrm{RecFeas_{k}}} \n",
    "$$"
   ]
  }
 ],
 "metadata": {
  "kernelspec": {
   "display_name": ".conda-py38tf25",
   "language": "python",
   "name": "conda-env-.conda-py38tf25-py"
  },
  "language_info": {
   "codemirror_mode": {
    "name": "ipython",
    "version": 3
   },
   "file_extension": ".py",
   "mimetype": "text/x-python",
   "name": "python",
   "nbconvert_exporter": "python",
   "pygments_lexer": "ipython3",
   "version": "3.8.12"
  }
 },
 "nbformat": 4,
 "nbformat_minor": 5
}
