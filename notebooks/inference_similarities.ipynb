{
 "cells": [
  {
   "cell_type": "code",
   "execution_count": null,
   "metadata": {
    "scrolled": true
   },
   "outputs": [],
   "source": [
    "import os\n",
    "import sys\n",
    "partial_path = os.getcwd().rsplit('/', 1)[0]\n",
    "sys.path.insert(0, f'{partial_path}/src/')\n",
    "\n",
    "from utils import setup_damage_detector, crop_damage_v2\n",
    "import config as cf\n",
    "import pandas as pd\n",
    "from inference_visualization_utils import *"
   ]
  },
  {
   "cell_type": "markdown",
   "metadata": {},
   "source": [
    "# DATASET IN CLAIM MODE"
   ]
  },
  {
   "cell_type": "code",
   "execution_count": null,
   "metadata": {},
   "outputs": [],
   "source": [
    "paths = os.path.join(cf.INFERENCE_DATASET_CLAIM, '*', '*')\n",
    "images= glob.glob(paths)\n",
    "result= predict_damages(images)    \n"
   ]
  },
  {
   "cell_type": "code",
   "execution_count": null,
   "metadata": {},
   "outputs": [],
   "source": [
    "df = pd.DataFrame(result, columns=[cf.FILEPATH_COL_NAME, cf.FILENAME_COL_NAME, 'claim_or_type', cf.DAMAGES_INFO_COL_NAME])"
   ]
  },
  {
   "cell_type": "code",
   "execution_count": null,
   "metadata": {},
   "outputs": [],
   "source": [
    "df.head()"
   ]
  },
  {
   "cell_type": "code",
   "execution_count": null,
   "metadata": {},
   "outputs": [],
   "source": [
    "df_cleaned=extract_features(df)"
   ]
  },
  {
   "cell_type": "code",
   "execution_count": null,
   "metadata": {},
   "outputs": [],
   "source": [
    "df_cleaned.head()"
   ]
  },
  {
   "cell_type": "markdown",
   "metadata": {},
   "source": [
    "### Visualize couples under a trashold"
   ]
  },
  {
   "cell_type": "code",
   "execution_count": null,
   "metadata": {},
   "outputs": [],
   "source": [
    "a=get_similarity_result_couples(df_cleaned, print_couples=True, max_print=2, trashold=0.005)"
   ]
  },
  {
   "cell_type": "markdown",
   "metadata": {},
   "source": [
    "### Visualize best match for each photo (you can still choose a trashold)"
   ]
  },
  {
   "cell_type": "code",
   "execution_count": null,
   "metadata": {},
   "outputs": [],
   "source": [
    "get_similarity_result_grid(df_cleaned, trashold=0.01, max_print=10)"
   ]
  },
  {
   "cell_type": "markdown",
   "metadata": {},
   "source": [
    "# DATASET IN QUERY-GALLERY MODE"
   ]
  },
  {
   "cell_type": "code",
   "execution_count": null,
   "metadata": {},
   "outputs": [],
   "source": [
    "paths = os.path.join(cf.INFERENCE_DATASET_PICS, '*', '*')\n",
    "images= glob.glob(paths)\n",
    "result= predict_damages(images)    \n"
   ]
  },
  {
   "cell_type": "code",
   "execution_count": null,
   "metadata": {},
   "outputs": [],
   "source": [
    "df = pd.DataFrame(result, columns=[cf.FILEPATH_COL_NAME, cf.FILENAME_COL_NAME, 'claim_or_type', cf.DAMAGES_INFO_COL_NAME])"
   ]
  },
  {
   "cell_type": "code",
   "execution_count": null,
   "metadata": {},
   "outputs": [],
   "source": [
    "df.head()"
   ]
  },
  {
   "cell_type": "code",
   "execution_count": null,
   "metadata": {},
   "outputs": [],
   "source": [
    "df_cleaned=extract_features(df)"
   ]
  },
  {
   "cell_type": "code",
   "execution_count": null,
   "metadata": {},
   "outputs": [],
   "source": [
    "df_cleaned.head()"
   ]
  },
  {
   "cell_type": "markdown",
   "metadata": {},
   "source": [
    "### Visualize couples under a trashold"
   ]
  },
  {
   "cell_type": "code",
   "execution_count": null,
   "metadata": {},
   "outputs": [],
   "source": [
    "a=get_similarity_result_couples(df_cleaned, print_couples=True, max_print=2, trashold=0.008)"
   ]
  },
  {
   "cell_type": "markdown",
   "metadata": {},
   "source": [
    "### Visualize best match for each photo (you can still choose a trashold)"
   ]
  },
  {
   "cell_type": "code",
   "execution_count": null,
   "metadata": {},
   "outputs": [],
   "source": [
    "get_similarity_result_grid(df_cleaned, trashold=0.01, max_print=10)"
   ]
  }
 ],
 "metadata": {
  "interpreter": {
   "hash": "912d9c7666139f1c271b256cc9cbfa75ef2240abc21fcb7921ca9fa6f804925d"
  },
  "kernelspec": {
   "display_name": ".conda-torchreid_test",
   "language": "python",
   "name": "conda-env-.conda-torchreid_test-py"
  },
  "language_info": {
   "codemirror_mode": {
    "name": "ipython",
    "version": 3
   },
   "file_extension": ".py",
   "mimetype": "text/x-python",
   "name": "python",
   "nbconvert_exporter": "python",
   "pygments_lexer": "ipython3",
   "version": "3.8.12"
  }
 },
 "nbformat": 4,
 "nbformat_minor": 4
}
